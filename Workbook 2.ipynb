{
 "cells": [
  {
   "cell_type": "markdown",
   "metadata": {},
   "source": [
    "# Suggested Solution Workbook\n",
    "\n",
    "**Note: This is only a suggested way of solving the problem. This solution is in no way complete and needs significant improvements, something we hope the competition participants will be able to do.**\n",
    "\n",
    "One way of solving this problem is to convert text features into categorical features (as was suggested in the last workbook) and then naively training a classifier. However, this is not the ideal way to model the solution.  In this workbook we look at a slightly different way of approaching the problem. \n",
    "\n",
    "#### Step 1: We try to quantify the textual information that is given to us. \n",
    "For instance let's say the bowler for a particular delivery is Jasprit Bumrah, what we need is a set of features that can model Jasprit, we can look at things like wickets taken in that particular match, economy rate upto that point in the game, career figures, last 5 match figures etc. Using a similar approach we try to model other variables. \n",
    "  \n",
    "Another question we have to look at is what factors would affect the probability of a wicket in the next ball, if we know the factors then we can try to model them as discussed above. Few that are obvious are\n",
    "\n",
    "1. State of the game\n",
    "2. Bowler\n",
    "3. Batsman\n",
    "4. Bowler and Batsman dynamics\n",
    "5. Venue\n",
    "\n",
    "Next we think of features that can model each of the factors above\n",
    "\n",
    "1. State of the game: format of the game, chasing or batting first, required rate, runs scored in last 6 balls, wickets in last 6 balls, current run rate etc.\n",
    "\n",
    "2. Bowler : Career figures like strike rate, average, last 5 match figures, economy rate in this match, wickets in this match, runs given in last 6 balls, wickets taken in last 6 balls (note: this would be different then the wickets taken in the last 6 balls feature from the state of the game)etc.\n",
    "\n",
    "3. Batsman : runs in last 5 matches, career average, career strike rate, strike rate in last 5 matches, strike rate in this match, balls faced in this match, runs scored in last 6 balls, balls since last boundary scored etc.\n",
    "\n",
    "4. Bowler and Batsman dynamics: This has features that represent the dynamics between current batsman and bowler a few of these could be number of times the batsman has been dismissed by this bowler, historical average against the bowler, runs scored this could also have generic features ( like if the batsman is right handed then the bowler's average against right handed batsman or batsman's average against seam bowling if the bowler is a seam bowler)\n",
    "\n",
    "5. Venue : average number of wickets per innnigs in the last 5 matches at this venue, this could also include venue bowler dynamics like strike rate of seam bowlers at this venue etc\n",
    "\n",
    "Once we have added the above features into our dataset we can remove the textual information without worrying about the loss of information\n",
    "\n",
    "#### Step 2: Next we try to find the best prediction variable. What other information can we predict out of the dataset?\n",
    "\n",
    "In our dataset we also have the information about \n",
    "1. runs scored in the next ball\n",
    "2. number of runs scored in the next 6 balls\n",
    "3. if there was a wicket in the next 6 balls(not just the next ball)\n",
    "\n",
    "We can try to use this information to finally predict a wicket. However as we won't have this information available in realtime, we can't use this information directly. \n",
    "Instead we can use the training dataset to train a few feeder models for these complex features. For instance we can try to train a model on the training dataset to predict the runs in the next ball and then use that prediction as a feature(this way we can generate more complex features) to predict the probability of wicket. (Use caution with this approach as this makes the model prone to overfitting)\n",
    "\n",
    "Below is an implementation of the few ideas given above. improvements on top of this could be:\n",
    "\n",
    "1. In the below implementation we only model state of the game features given above, an obvious improvement could be to include other features\n",
    "2. Below we train seprate models for chasing and also for different formats, however features like batsman bowler dynamics, venue can be common across formats think of ways to use those across formats.\n",
    "3. Use specific feeder models for different factors(batsman, bowler etc), for example you may want to train a model on the runs scored by the current batsman in the next 6 balls using batsman features and then use that prediction as a feature for the final model.( Again this makes the model prone to overfitting)\n",
    "4. In the below implementation we don't optimize the threshold for probability(infact most of the improvements listed in the previous workbook can probably be applied here as well)\n",
    "\n",
    "Now to the actual implementation"
   ]
  },
  {
   "cell_type": "markdown",
   "metadata": {},
   "source": [
    "**Step 0: Importing packages and downloading the files needed, loading the dataset into memory**"
   ]
  },
  {
   "cell_type": "code",
   "execution_count": 2,
   "metadata": {},
   "outputs": [],
   "source": [
    "import pandas as pd\n",
    "import numpy as np\n",
    "import os.path\n",
    "import math\n",
    "try:\n",
    "    from urllib2 import urlopen\n",
    "except ImportError:\n",
    "    from urllib.request import urlopen\n",
    "    \n",
    "    \n",
    "## This downloads your datafile, Do not change this function\n",
    "def downloadFile(downloadUrl, dataSetId, instrumentId):\n",
    "      fileName = '%s.csv' % (instrumentId)\n",
    "      url = downloadUrl + dataSetId + '/' + fileName\n",
    "\n",
    "      response = urlopen(url)\n",
    "      status = response.getcode()\n",
    "      if status == 200:\n",
    "          print('Downloading the dataset %s' % (fileName))\n",
    "          with open(fileName, 'w') as f:\n",
    "              f.write(response.read().decode('utf8'))\n",
    "          return True\n",
    "      else:\n",
    "          logError('File not found. Please ensure you are working with correct data set Id')\n",
    "          return False\n",
    "\n",
    "cachedFolderName='historicalData/'\n",
    "dataSetId='p1'\n",
    "instrumentIds=['trainingData']\n",
    "downloadUrl = 'https://qq11-data.s3.amazonaws.com/'\n",
    "targetVariable = 'Out'\n",
    "timeKey = 'date'\n",
    "startDateStr='2010/01/01'\n",
    "endDateStr='2015/12/31'\n",
    "if not os.path.isfile('%s.csv' % (instrumentIds[0])):\n",
    "    downloadFile(downloadUrl, dataSetId, instrumentIds[0])\n",
    "df = pd.read_csv('%s.csv' % (instrumentIds[0]), index_col=0, encoding='latin-1')\n"
   ]
  },
  {
   "cell_type": "markdown",
   "metadata": {},
   "source": [
    "**Step 1: Data exploration**"
   ]
  },
  {
   "cell_type": "code",
   "execution_count": 3,
   "metadata": {},
   "outputs": [
    {
     "name": "stdout",
     "output_type": "stream",
     "text": [
      "(874860, 29)\n",
      "Index(['batsman_hand', 'batsman_name', 'batsman_number', 'batting_team_name',\n",
      "       'bowler_hand', 'bowler_name', 'bowler_style', 'bowling_team_name',\n",
      "       'country_group', 'cumulative_balls_bowled', 'cumulative_balls_faced',\n",
      "       'cumulative_balls_faced_nf', 'innings', 'innings_ball_number',\n",
      "       'innings_over', 'innings_runs_before_ball', 'innings_wickets',\n",
      "       'match_format', 'match_quality', 'over_ball', 'pplay_group',\n",
      "       'required_run_rate', 'target', 'toss_choice', 'toss_winner',\n",
      "       'venue_name', 'chasing', 'PreviousBallOut', 'Out'],\n",
      "      dtype='object')\n",
      "batsman_hand                  object\n",
      "batsman_name                  object\n",
      "batsman_number                 int64\n",
      "batting_team_name             object\n",
      "bowler_hand                   object\n",
      "bowler_name                   object\n",
      "bowler_style                  object\n",
      "bowling_team_name             object\n",
      "country_group                 object\n",
      "cumulative_balls_bowled        int64\n",
      "cumulative_balls_faced         int64\n",
      "cumulative_balls_faced_nf    float64\n",
      "innings                        int64\n",
      "innings_ball_number            int64\n",
      "innings_over                   int64\n",
      "innings_runs_before_ball       int64\n",
      "innings_wickets                int64\n",
      "match_format                   int64\n",
      "match_quality                  int64\n",
      "over_ball                      int64\n",
      "pplay_group                   object\n",
      "required_run_rate            float64\n",
      "target                       float64\n",
      "toss_choice                   object\n",
      "toss_winner                   object\n",
      "venue_name                    object\n",
      "chasing                        int64\n",
      "PreviousBallOut              float64\n",
      "Out                            int64\n",
      "dtype: object\n"
     ]
    }
   ],
   "source": [
    "## Data description\n",
    "print(df.shape)\n",
    "print(df.columns)\n",
    "print(df.dtypes)"
   ]
  },
  {
   "cell_type": "markdown",
   "metadata": {},
   "source": [
    "**Step 3: Splitting the data**\n",
    "#### 3a. Separating the dataset for 20 over format and 50 over format, also for chasing and batting first"
   ]
  },
  {
   "cell_type": "code",
   "execution_count": 4,
   "metadata": {},
   "outputs": [],
   "source": [
    "## extracting 20 over format games\n",
    "data20 = df.copy()\n",
    "data20 = data20[data20[\"match_format\"]==20]\n",
    "\n",
    "## splitting them by chasing or batting first\n",
    "data20_chasing = data20.copy()\n",
    "data20_chasing = data20_chasing[data20[\"chasing\"]==1]\n",
    "data20_first = data20[data20[\"chasing\"]==0]\n",
    "\n",
    "## extracting 50 over format games\n",
    "data50 = df.copy()\n",
    "data50 = data50[data50[\"match_format\"]==50]\n",
    "\n",
    "## splitting them by chasing or batting first\n",
    "data50_chasing = data50.copy()\n",
    "data50_chasing = data50_chasing[data50[\"chasing\"]==1]\n",
    "data50_first = data50[data50[\"chasing\"]==0]\n"
   ]
  },
  {
   "cell_type": "markdown",
   "metadata": {},
   "source": [
    "#### 3b. Separating the dataset into train and test set\n",
    "(here I'm using a fixed index becuase I didn't want to keep data for the same match in both train and test set, you could divide in any way you want)"
   ]
  },
  {
   "cell_type": "code",
   "execution_count": 5,
   "metadata": {},
   "outputs": [],
   "source": [
    "data50_chasing_train = data50_chasing.copy()[:165444]\n",
    "data50_chasing_test = data50_chasing.copy()[165444:]\n"
   ]
  },
  {
   "cell_type": "markdown",
   "metadata": {},
   "source": [
    "**Step 4: Creating new features**\n",
    "\n",
    "We create features to capture the state of the game, bowler/batsman characterstics and features for feeder models"
   ]
  },
  {
   "cell_type": "code",
   "execution_count": 6,
   "metadata": {},
   "outputs": [],
   "source": [
    "##This function adds the following features:\n",
    "## State of the game features:\n",
    "## a. tossWin: Did the batting team win the toss?\n",
    "## b. runRateLast5: runRate in last 5 overs\n",
    "## c. wicketsLast5: wickets in last 5 overs\n",
    "## d. runsLast6: runs in last 6 balls\n",
    "\n",
    "## Bowler form features\n",
    "## a. bowlerRunsLast6 : runs given by bowler in last 6 balls\n",
    "## b. bowlerRunRateThisMatch: bowler economy in the game so far\n",
    "## c. bowlerWicketsThisMatch: wickets taken by the bowler in the game so far\n",
    "## d. bowlerRunsThisMatch: runs given by the bowler in the game so far\n",
    "\n",
    "## We also create a few predicton variables features \n",
    "## (i.e. these features include future information and \n",
    "## we will try to predict these)\n",
    "## a. runsNext6: runs in next 6 balls\n",
    "## b. wicketsNext6: wickets in last 6 balls\n",
    "## c. runsNext: runs in the next ball\n",
    "\n",
    "def addNewFeatures(data):\n",
    "\n",
    "    #state of the game features\n",
    "    runsLast6=np.zeros(len(data))\n",
    "    tossWin = np.zeros(len(data))\n",
    "    runRateLast5 = np.zeros(len(data))\n",
    "    wicketsLast5 = np.zeros(len(data))\n",
    "    runsNext6   = np.zeros(len(data))\n",
    "    wicketsNext6 = np.zeros(len(data))\n",
    "    runsNext = np.zeros(len(data))\n",
    "\n",
    "    # bowler form features\n",
    "    bowlerRunsLast6 = np.zeros(len(data))\n",
    "    bowlerRunRateThisMatch = np.zeros(len(data))\n",
    "    bowlerWicketsThisMatch = np.zeros(len(data))\n",
    "    bowlerRunsThisMatch = np.zeros(len(data))\n",
    "\n",
    "    ball_number_array= data['innings_ball_number']\n",
    "    bowler_ball_number = data['cumulative_balls_bowled']\n",
    "    bowler_name = data[\"bowler_name\"]\n",
    "    runs_array = data['innings_runs_before_ball']\n",
    "    wickets = data['innings_wickets']\n",
    "    toss_winner = data['toss_winner']\n",
    "    batting_team_name = data['batting_team_name']\n",
    "    for i in range(0,len(data)):\n",
    "        if i+1 < len(data) and ball_number_array[i+1]>0:\n",
    "            runsNext[i] = runs_array[i+1] - runs_array[i]\n",
    "        else:\n",
    "            runsNext[i] = runsNext[i-1]\n",
    "\n",
    "        if i+6 < len(data) and ball_number_array[i+6]>5:\n",
    "            runsNext6[i] = runs_array[i+6] - runs_array[i]\n",
    "        else:\n",
    "            runsNext6[i] = runsNext6[i-1]\n",
    "\n",
    "        if i+6 < len(data) and ball_number_array[i+6]>5:\n",
    "            wicketsNext6[i] = int((wickets[i+6] - wickets[i])>0)\n",
    "        else:\n",
    "            wicketsNext6[i] = wicketsNext6[i-1]\n",
    "\n",
    "        tossWin[i] = int(toss_winner[i]==batting_team_name[i])\n",
    "        if ball_number_array[i]<30:\n",
    "            runRateLast5[i] = (runs_array[i]/(ball_number_array[i]+1))*6\n",
    "            wicketsLast5[i] = wickets[i]\n",
    "        else:\n",
    "            runRateLast5[i] = (runs_array[i] - runs_array[i-30])/5\n",
    "            wicketsLast5[i] = wickets[i] - wickets[i-30]\n",
    "\n",
    "        if ball_number_array[i]<6:\n",
    "            runsLast6[i] = (runs_array[i]/(ball_number_array[i]+1))*6\n",
    "        else:\n",
    "            runsLast6[i] = runs_array[i] - runs_array[i-6]\n",
    "\n",
    "        bowler = bowler_name[i]\n",
    "\n",
    "        j = 1\n",
    "        while True:\n",
    "            if bowler_ball_number[i] == 0:\n",
    "                bowlerRunsThisMatch[i] = 0\n",
    "                bowlerWicketsThisMatch[i] = 0\n",
    "                break\n",
    "            if bowler_name[i - j] == bowler:\n",
    "                bowlerRunsThisMatch[i] = bowlerRunsThisMatch[i - j] + (runs_array[i - j + 1] - runs_array[i - j])\n",
    "                bowlerWicketsThisMatch[i] = bowlerWicketsThisMatch[i - j] + (wickets[i - j + 1] - wickets[i - j])\n",
    "                break\n",
    "            j += 1\n",
    "\n",
    "        if bowler_ball_number[i] == 0:\n",
    "            bowlerRunRateThisMatch[i] = 4\n",
    "        else:\n",
    "            bowlerRunRateThisMatch[i] = (bowlerRunsThisMatch[i] / bowler_ball_number[i]) * 6\n",
    "\n",
    "\n",
    "    data['runsLast6'] = runsLast6\n",
    "    data['tossWin'] = tossWin\n",
    "    data['runRateLast5'] = runRateLast5\n",
    "    data['wicketsLast5'] = wicketsLast5\n",
    "    data['runsNext6'] = runsNext6\n",
    "    data['wicketsNext6'] = wicketsNext6\n",
    "    data['runsNext'] = runsNext\n",
    "\n",
    "    data['bowlerRunsLast6'] = bowlerRunsLast6\n",
    "    data['bowlerRunRateThisMatch'] = bowlerRunRateThisMatch\n",
    "    data['bowlerWicketsThisMatch'] = bowlerWicketsThisMatch\n",
    "\n",
    "    # data=data.drop(columns=[\"toss_winner\", \"batting_team_name\"])\n",
    "    return None\n"
   ]
  },
  {
   "cell_type": "markdown",
   "metadata": {},
   "source": [
    "### Suggested Improvement: You could model other possible features**\n",
    "- bowlerAverageThisMatch\n",
    "- bowlerAverageLast5Match\n",
    "- bowlerStrikeRateLast5Match\n",
    "- bowlerCareerAverage\n",
    "- bowlerCareerStrikeRate\n",
    "\n",
    "Possible batsman form features\n",
    "- batsmanRunsLast6 \n",
    "- batsmanStrikeRateThisMatch \n",
    "- batsmanRunsThisMatch \n",
    "- batsmanAverageLast5Match\n",
    "- batsmanAverageLast5Match\n"
   ]
  },
  {
   "cell_type": "code",
   "execution_count": 7,
   "metadata": {},
   "outputs": [],
   "source": [
    "addNewFeatures(data50_chasing_train)\n",
    "addNewFeatures(data50_chasing_test)\n"
   ]
  },
  {
   "cell_type": "markdown",
   "metadata": {},
   "source": [
    "**Step 5: Dropping some textual columns**\n",
    "\n",
    "Since we've added the features quantifying textual information \n",
    "#### Note: at the moment,  we're losing some information here as we've only added feature representation for bowler and state of the game - you should create more features to fully capture the information\n",
    "\n",
    "We also don't remove powerplay textual information because in this model we assume converting that into categorical variable is enough"
   ]
  },
  {
   "cell_type": "code",
   "execution_count": 8,
   "metadata": {},
   "outputs": [],
   "source": [
    "drop_columns = [\"batsman_hand\", 'batsman_name', 'batsman_number', 'batting_team_name',\n",
    "                \"bowler_hand\", \"bowler_name\", \"bowler_style\", \"bowling_team_name\", \"country_group\", \"innings\", \"match_format\", 'toss_choice',\n",
    "                \"toss_winner\", 'match_quality', 'venue_name', 'chasing']\n",
    "\n",
    "data50_chasing_train = data50_chasing_train.drop(columns=drop_columns)\n",
    "data50_chasing_test = data50_chasing_test.drop(columns=drop_columns)\n"
   ]
  },
  {
   "cell_type": "markdown",
   "metadata": {},
   "source": [
    "**Step 6: Converting the remaining textual features (Powerplay information) into categorical variables**"
   ]
  },
  {
   "cell_type": "code",
   "execution_count": 9,
   "metadata": {},
   "outputs": [],
   "source": [
    "from sklearn import preprocessing\n",
    "\n",
    "feature_dict ={}\n",
    "for feature in data50_chasing_train.columns:\n",
    "    if data50_chasing_train[feature].dtype==object:\n",
    "        le = preprocessing.LabelEncoder()\n",
    "        fs = data50_chasing_train[feature].unique()\n",
    "        f_dict = {}\n",
    "        le.fit(fs)\n",
    "        data50_chasing_train[feature] = le.transform(data50_chasing_train[feature])\n",
    "        data50_chasing_test[feature] = le.transform(data50_chasing_test[feature])\n",
    "        feature_dict[feature] = le\n"
   ]
  },
  {
   "cell_type": "markdown",
   "metadata": {},
   "source": [
    "**Step 7: Taking out the prediction variables from dataset**\n",
    "\n",
    "We are predicting:\n",
    "1. Out: is this ball a wicket or not?\n",
    "2. runsNext6: runs in next 6 balls\n",
    "3. wicketsNext6: wickets in last 6 balls\n",
    "4. runsNext: runs in the next ball"
   ]
  },
  {
   "cell_type": "code",
   "execution_count": 10,
   "metadata": {},
   "outputs": [],
   "source": [
    "out = data50_chasing_train['Out']\n",
    "del data50_chasing_train['Out']\n",
    "\n",
    "out_test = data50_chasing_test['Out']\n",
    "del data50_chasing_test['Out']\n",
    "\n",
    "wicketsNext6 = data50_chasing_train['wicketsNext6']\n",
    "del data50_chasing_train['wicketsNext6']\n",
    "del data50_chasing_test['wicketsNext6']\n",
    "\n",
    "runsNext6 = data50_chasing_train['runsNext6']\n",
    "del data50_chasing_train['runsNext6']\n",
    "del data50_chasing_test['runsNext6']\n",
    "\n",
    "runsNext = data50_chasing_train['runsNext']\n",
    "del data50_chasing_train['runsNext']\n",
    "del data50_chasing_test['runsNext']\n"
   ]
  },
  {
   "cell_type": "markdown",
   "metadata": {},
   "source": [
    "**Step 8: Training Feeder models on train dataset**\n",
    "\n",
    "Our final aim is to predict if the given ball is a wicket or not. However, there is other informmation about the game, **which if we knew,** we could use to predict a wicket, such as runs scored in the next 6 balls.\n",
    "\n",
    "Now obviously, we won't have this information available in realtime because it only becomes avail;able as the game plays out. BUT, it might be easier to forecast, given all the information we do have, compared to predicting if a given ball is a wicket.\n",
    "\n",
    "So, we can use the training dataset to train a few feeder models, which take in all of the available information upto that point in the game and predict these variables. \n",
    "\n",
    "Right now, we train three models on the training dataset to predict:\n",
    "- runsNext6: runs in next 6 balls\n",
    "- wicketsNext6: wickets in last 6 balls\n",
    "- runsNext: runs in the next ball\n",
    "\n",
    "We will then use the predictions of these models as a feature in our final model to predict the probability of wicket. \n",
    "\n",
    "This approach allows to predict a few interim features about the state of the game, which are easier to predict, and hence improve the overall performance of our model.\n",
    "\n",
    "**Note: Use caution with this approach, if you go overboard andpredict too many features this way, this makes the model prone to overfitting)**\n",
    "\n"
   ]
  },
  {
   "cell_type": "code",
   "execution_count": 11,
   "metadata": {},
   "outputs": [],
   "source": [
    "from sklearn.ensemble import RandomForestClassifier, RandomForestRegressor\n",
    "\n",
    "## creating feeder models \n",
    "rforest_model_runs_next6 = RandomForestRegressor(n_estimators=100, max_depth=8,random_state=0).fit(data50_chasing_train,runsNext6)\n",
    "rforest_model_runs_next = RandomForestRegressor(n_estimators=100, max_depth=8,random_state=0).fit(data50_chasing_train,runsNext)\n",
    "rforest_model_wickets_next6 = RandomForestClassifier(n_estimators=100, max_depth=8,random_state=0).fit(data50_chasing_train,wicketsNext6)\n",
    "\n",
    "## predictions from these models \n",
    "wicketsNext6 = rforest_model_wickets_next6.predict(data50_chasing_train)\n",
    "runsNext = rforest_model_runs_next.predict(data50_chasing_train)\n",
    "runsNext6 = rforest_model_runs_next6.predict(data50_chasing_train)\n",
    "## adding predictions as features in the dataset\n",
    "data50_chasing_train['wicketsNext6'] = wicketsNext6\n",
    "data50_chasing_train['runsNext6'] = runsNext6\n",
    "data50_chasing_train['runsNext'] = runsNext\n",
    "\n",
    "## predictions from these models \n",
    "wicketsNext6 = rforest_model_wickets_next6.predict(data50_chasing_test)\n",
    "runsNext = rforest_model_runs_next.predict(data50_chasing_test)\n",
    "runsNext6 = rforest_model_runs_next6.predict(data50_chasing_test)\n",
    "## adding predictions as features in the dataset\n",
    "data50_chasing_test['wicketsNext6'] = wicketsNext6\n",
    "data50_chasing_test['runsNext6'] = runsNext6\n",
    "data50_chasing_test['runsNext'] = runsNext\n"
   ]
  },
  {
   "cell_type": "markdown",
   "metadata": {},
   "source": [
    "**Step9: Training the wicket probability model and looking at the accuracy(Moment of truth)**"
   ]
  },
  {
   "cell_type": "code",
   "execution_count": 12,
   "metadata": {},
   "outputs": [
    {
     "name": "stdout",
     "output_type": "stream",
     "text": [
      "0.9746902955223157\n"
     ]
    }
   ],
   "source": [
    "rforest_model_out = RandomForestClassifier(n_estimators=100, max_depth=8,random_state=0).fit(data50_chasing_train,out)\n",
    "\n",
    "accuracy = rforest_model_out.score(data50_chasing_test, out_test)\n",
    "print(accuracy)"
   ]
  },
  {
   "cell_type": "code",
   "execution_count": 24,
   "metadata": {},
   "outputs": [
    {
     "name": "stdout",
     "output_type": "stream",
     "text": [
      "0.11625858179468526\n"
     ]
    }
   ],
   "source": [
    "rforest_predictions = rforest_model_out.predict(data50_chasing_test) \n",
    "y_scores = evaluate_clf.predict_proba(data50_chasing_test)[:, 1]\n",
    "lg = log_loss(out_test, y_scores)\n",
    "print(lg)"
   ]
  },
  {
   "cell_type": "markdown",
   "metadata": {},
   "source": [
    "**This is pretty decent improvement over our last random forest model in both accuracy and logloss, considering we actually removed a lot of textual information and didn't include the features to compensate**\n"
   ]
  },
  {
   "cell_type": "markdown",
   "metadata": {},
   "source": [
    "**Next we try to look at feature importance and look at other metrics like AUC ROC Curve**"
   ]
  },
  {
   "cell_type": "code",
   "execution_count": 15,
   "metadata": {},
   "outputs": [
    {
     "name": "stdout",
     "output_type": "stream",
     "text": [
      "cumulative_balls_bowled 0.0455326535590099\n",
      "cumulative_balls_faced 0.09711383171595628\n",
      "cumulative_balls_faced_nf 0.04144952282843958\n",
      "innings_ball_number 0.08809410124218794\n",
      "innings_over 0.04217499061116407\n",
      "innings_runs_before_ball 0.053620697756303314\n",
      "innings_wickets 0.047453027108865856\n",
      "over_ball 0.019583775426031895\n",
      "pplay_group 0.012982177767769575\n",
      "required_run_rate 0.11045129332448213\n",
      "target 0.04028631864747816\n",
      "PreviousBallOut 0.0032634005189738444\n",
      "runsLast6 0.042338555123638766\n",
      "tossWin 0.007399924148727263\n",
      "runRateLast5 0.04967746280738971\n",
      "wicketsLast5 0.01939396717311942\n",
      "bowlerRunsLast6 0.0\n",
      "bowlerRunRateThisMatch 0.05833198835770509\n",
      "bowlerWicketsThisMatch 0.022565042809683918\n",
      "wicketsNext6 0.02931207997397418\n",
      "runsNext6 0.07860759697196161\n",
      "runsNext 0.09036759212713757\n"
     ]
    }
   ],
   "source": [
    "evaluate_clf = rforest_model_out\n",
    "for i in range(len(data50_chasing_test.columns)):\n",
    "    print(data50_chasing_test.columns[i], evaluate_clf.feature_importances_[i])\n"
   ]
  },
  {
   "cell_type": "markdown",
   "metadata": {},
   "source": [
    "**As we can see above some of the features we introduced using feeder models have pretty strong feature importance (runsNext for example)**"
   ]
  },
  {
   "cell_type": "markdown",
   "metadata": {},
   "source": [
    "Now we compute precision-recall pairs for different probability thresholds\n",
    "\n",
    "The precision is the ratio tp / (tp + fp) where tp is the number of true positives and fp the number of false positives. The precision is intuitively the ability of the classifier not to label as positive a sample that is negative.\n",
    "\n",
    "The recall is the ratio tp / (tp + fn) where tp is the number of true positives and fn the number of false negatives. The recall is intuitively the ability of the classifier to find all the positive samples.\n"
   ]
  },
  {
   "cell_type": "code",
   "execution_count": 16,
   "metadata": {},
   "outputs": [],
   "source": [
    "from sklearn.metrics import confusion_matrix, log_loss, make_scorer\n",
    "from sklearn.metrics import roc_curve, precision_recall_curve, auc, recall_score, accuracy_score, precision_score\n",
    "from sklearn.model_selection import train_test_split, GridSearchCV, StratifiedKFold\n",
    "y_scores = evaluate_clf.predict_proba(data50_chasing_test)[:, 1]\n",
    "p, r, thresholds = precision_recall_curve(out_test, y_scores)\n",
    "\n",
    "\n",
    "import matplotlib.pyplot as plt\n",
    "\n",
    "plt.style.use(\"ggplot\")\n",
    "\n",
    "\n",
    "def adjusted_classes(y_scores, t):\n",
    "    \"\"\"\n",
    "    This function adjusts class predictions based on the prediction threshold (t).\n",
    "    Will only work for binary classification problems.\n",
    "    \"\"\"\n",
    "    return [1 if y >= t else 0 for y in y_scores]\n",
    "\n",
    "\n",
    "def precision_recall_threshold(p, r, thresholds, t=0.5):\n",
    "    \"\"\"\n",
    "    plots the precision recall curve and shows the current value for each\n",
    "    by identifying the classifier's threshold (t).\n",
    "    \"\"\"\n",
    "\n",
    "    # generate new class predictions based on the adjusted_classes\n",
    "    # function above and view the resulting confusion matrix.\n",
    "    y_pred_adj = adjusted_classes(y_scores, t)\n",
    "    print(pd.DataFrame(confusion_matrix(out_test, y_pred_adj),\n",
    "                       columns=['pred_neg', 'pred_pos'],\n",
    "                       index=['neg', 'pos']))\n",
    "\n",
    "    # plot the curve\n",
    "    plt.figure(figsize=(8, 8))\n",
    "    plt.title(\"Precision and Recall curve ^ = current threshold\")\n",
    "    plt.step(r, p)  # , color='b', alpha=0.2,\n",
    "    #              where='post')\n",
    "    plt.fill_between(r, p)  # , step='post', alpha=0.2,\n",
    "    #                      color='b')\n",
    "    plt.ylim([0.5, 1.01]);\n",
    "    plt.xlim([0.5, 1.01]);\n",
    "    plt.xlabel('Recall');\n",
    "    plt.ylabel('Precision');\n",
    "\n",
    "    # plot the current threshold on the line\n",
    "    close_default_clf = np.argmin(np.abs(thresholds - t))\n",
    "    plt.plot(r[close_default_clf], p[close_default_clf], '^', c='k',\n",
    "             markersize=15)\n",
    "    return y_pred_adj\n"
   ]
  },
  {
   "cell_type": "code",
   "execution_count": 17,
   "metadata": {},
   "outputs": [
    {
     "name": "stdout",
     "output_type": "stream",
     "text": [
      "     pred_neg  pred_pos\n",
      "neg     38120      2085\n",
      "pos       905       139\n"
     ]
    },
    {
     "data": {
      "image/png": "[encoded data removed]",
      "text/plain": [
       "<Figure size 576x576 with 1 Axes>"
      ]
     },
     "metadata": {},
     "output_type": "display_data"
    }
   ],
   "source": [
    "y_new = precision_recall_threshold(p, r, thresholds, t=0.05)"
   ]
  },
  {
   "cell_type": "code",
   "execution_count": 18,
   "metadata": {},
   "outputs": [],
   "source": [
    "def plot_precision_recall_vs_threshold(precisions, recalls, thresholds):\n",
    "    \"\"\"\n",
    "    Modified from:\n",
    "    Hands-On Machine learning with Scikit-Learn\n",
    "    and TensorFlow; p.89\n",
    "    \"\"\"\n",
    "    plt.figure(figsize=(8, 8))\n",
    "    plt.title(\"Precision and Recall Scores as a function of the decision threshold\")\n",
    "    plt.plot(thresholds, precisions[:-1], \"b--\", label=\"Precision\")\n",
    "    plt.plot(thresholds, recalls[:-1], \"g-\", label=\"Recall\")\n",
    "    plt.ylabel(\"Score\")\n",
    "    plt.xlabel(\"Decision Threshold\")\n",
    "    plt.legend(loc='best')\n",
    "\n",
    "\n",
    "def plot_roc_curve(fpr, tpr, label=None):\n",
    "    \"\"\"\n",
    "    The ROC curve, modified from\n",
    "    Hands-On Machine learning with Scikit-Learn and TensorFlow; p.91\n",
    "    \"\"\"\n",
    "    plt.figure(figsize=(8, 8))\n",
    "    plt.title('ROC Curve')\n",
    "    plt.plot(fpr, tpr, linewidth=2, label=label)\n",
    "    plt.plot([0, 1], [0, 1], 'k--')\n",
    "    plt.axis([-0.005, 1, 0, 1.005])\n",
    "    plt.xticks(np.arange(0, 1, 0.05), rotation=90)\n",
    "    plt.xlabel(\"False Positive Rate\")\n",
    "    plt.ylabel(\"True Positive Rate (Recall)\")\n",
    "    plt.legend(loc='best')\n",
    "\n"
   ]
  },
  {
   "cell_type": "code",
   "execution_count": 19,
   "metadata": {},
   "outputs": [
    {
     "name": "stdout",
     "output_type": "stream",
     "text": [
      "0.5963861931737775\n"
     ]
    },
    {
     "data": {
      "image/png": "[encoded data removed]",
      "text/plain": [
       "<Figure size 576x576 with 1 Axes>"
      ]
     },
     "metadata": {},
     "output_type": "display_data"
    },
    {
     "data": {
      "image/png": "[encoded data removed]",
      "text/plain": [
       "<Figure size 576x576 with 1 Axes>"
      ]
     },
     "metadata": {},
     "output_type": "display_data"
    }
   ],
   "source": [
    "plot_precision_recall_vs_threshold(p, r, thresholds)\n",
    "\n",
    "fpr, tpr, auc_thresholds = roc_curve(out_test, y_scores)\n",
    "print(auc(fpr, tpr)) # AUC of ROC\n",
    "plot_roc_curve(fpr, tpr, 'recall_optimized')"
   ]
  },
  {
   "cell_type": "code",
   "execution_count": 21,
   "metadata": {},
   "outputs": [
    {
     "data": {
      "text/plain": [
       "0.9275133942641034"
      ]
     },
     "execution_count": 21,
     "metadata": {},
     "output_type": "execute_result"
    }
   ],
   "source": [
    "accuracy_score(out_test, y_new)"
   ]
  },
  {
   "cell_type": "markdown",
   "metadata": {},
   "source": [
    "**Last time we had an AUC of around 0.53 we see that just by including a few basic features it's already close to 0.6 so that's a pretty good improvement**"
   ]
  },
  {
   "cell_type": "code",
   "execution_count": null,
   "metadata": {},
   "outputs": [],
   "source": []
  }
 ],
 "metadata": {
  "kernelspec": {
   "display_name": "Python 3",
   "language": "python",
   "name": "python3"
  },
  "language_info": {
   "codemirror_mode": {
    "name": "ipython",
    "version": 3
   },
   "file_extension": ".py",
   "mimetype": "text/x-python",
   "name": "python",
   "nbconvert_exporter": "python",
   "pygments_lexer": "ipython3",
   "version": "3.7.0"
  }
 },
 "nbformat": 4,
 "nbformat_minor": 2
}
